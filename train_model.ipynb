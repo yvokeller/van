{
 "cells": [
  {
   "cell_type": "code",
   "execution_count": 251,
   "metadata": {},
   "outputs": [],
   "source": [
    "import pandas as pd\n",
    "import matplotlib.pyplot as plt\n",
    "import seaborn as sns"
   ]
  },
  {
   "attachments": {},
   "cell_type": "markdown",
   "metadata": {},
   "source": [
    "## Prepare and save ADNI file"
   ]
  },
  {
   "cell_type": "code",
   "execution_count": 252,
   "metadata": {},
   "outputs": [
    {
     "data": {
      "text/html": [
       "<div>\n",
       "<style scoped>\n",
       "    .dataframe tbody tr th:only-of-type {\n",
       "        vertical-align: middle;\n",
       "    }\n",
       "\n",
       "    .dataframe tbody tr th {\n",
       "        vertical-align: top;\n",
       "    }\n",
       "\n",
       "    .dataframe thead th {\n",
       "        text-align: right;\n",
       "    }\n",
       "</style>\n",
       "<table border=\"1\" class=\"dataframe\">\n",
       "  <thead>\n",
       "    <tr style=\"text-align: right;\">\n",
       "      <th></th>\n",
       "      <th>RID</th>\n",
       "      <th>DIAG</th>\n",
       "      <th>Phase</th>\n",
       "      <th>ID</th>\n",
       "      <th>SITEID</th>\n",
       "      <th>VISCODE</th>\n",
       "      <th>VISCODE2</th>\n",
       "      <th>USERDATE</th>\n",
       "      <th>USERDATE2</th>\n",
       "      <th>PTSOURCE</th>\n",
       "      <th>...</th>\n",
       "      <th>PREV_DIAG</th>\n",
       "      <th>DIAG_CHANGED</th>\n",
       "      <th>DIAG_GROUP</th>\n",
       "      <th>PATIENT_FIRST_DIAG</th>\n",
       "      <th>PATIENT_LAST_DIAG</th>\n",
       "      <th>PATIENT_DIAG_GROUP</th>\n",
       "      <th>PATIENT_DIAG_CHANGED</th>\n",
       "      <th>NEXT_DIAG</th>\n",
       "      <th>NEXT_DIAG_CHANGE</th>\n",
       "      <th>NEXT_DIAG_GROUP</th>\n",
       "    </tr>\n",
       "  </thead>\n",
       "  <tbody>\n",
       "    <tr>\n",
       "      <th>0</th>\n",
       "      <td>2</td>\n",
       "      <td>NL</td>\n",
       "      <td>ADNI1</td>\n",
       "      <td>18.0</td>\n",
       "      <td>107.0</td>\n",
       "      <td>sc</td>\n",
       "      <td>sc</td>\n",
       "      <td>2005-08-17</td>\n",
       "      <td>NaN</td>\n",
       "      <td>Participant Visit</td>\n",
       "      <td>...</td>\n",
       "      <td>NL</td>\n",
       "      <td>False</td>\n",
       "      <td>NL-NL</td>\n",
       "      <td>NL</td>\n",
       "      <td>MCI</td>\n",
       "      <td>NL-MCI</td>\n",
       "      <td>True</td>\n",
       "      <td>NL</td>\n",
       "      <td>False</td>\n",
       "      <td>NL-NL</td>\n",
       "    </tr>\n",
       "    <tr>\n",
       "      <th>1</th>\n",
       "      <td>2</td>\n",
       "      <td>NL</td>\n",
       "      <td>ADNI1</td>\n",
       "      <td>18.0</td>\n",
       "      <td>107.0</td>\n",
       "      <td>sc</td>\n",
       "      <td>bl</td>\n",
       "      <td>2005-08-17</td>\n",
       "      <td>NaN</td>\n",
       "      <td>Participant Visit</td>\n",
       "      <td>...</td>\n",
       "      <td>NL</td>\n",
       "      <td>False</td>\n",
       "      <td>NL-NL</td>\n",
       "      <td>NL</td>\n",
       "      <td>MCI</td>\n",
       "      <td>NL-MCI</td>\n",
       "      <td>True</td>\n",
       "      <td>NL</td>\n",
       "      <td>False</td>\n",
       "      <td>NL-NL</td>\n",
       "    </tr>\n",
       "    <tr>\n",
       "      <th>2</th>\n",
       "      <td>2</td>\n",
       "      <td>NL</td>\n",
       "      <td>ADNI1</td>\n",
       "      <td>18.0</td>\n",
       "      <td>107.0</td>\n",
       "      <td>sc</td>\n",
       "      <td>m06</td>\n",
       "      <td>2005-08-17</td>\n",
       "      <td>NaN</td>\n",
       "      <td>Participant Visit</td>\n",
       "      <td>...</td>\n",
       "      <td>NL</td>\n",
       "      <td>False</td>\n",
       "      <td>NL-NL</td>\n",
       "      <td>NL</td>\n",
       "      <td>MCI</td>\n",
       "      <td>NL-MCI</td>\n",
       "      <td>True</td>\n",
       "      <td>NL</td>\n",
       "      <td>False</td>\n",
       "      <td>NL-NL</td>\n",
       "    </tr>\n",
       "    <tr>\n",
       "      <th>3</th>\n",
       "      <td>2</td>\n",
       "      <td>NL</td>\n",
       "      <td>ADNI1</td>\n",
       "      <td>18.0</td>\n",
       "      <td>107.0</td>\n",
       "      <td>sc</td>\n",
       "      <td>m36</td>\n",
       "      <td>2005-08-17</td>\n",
       "      <td>NaN</td>\n",
       "      <td>Participant Visit</td>\n",
       "      <td>...</td>\n",
       "      <td>NL</td>\n",
       "      <td>False</td>\n",
       "      <td>NL-NL</td>\n",
       "      <td>NL</td>\n",
       "      <td>MCI</td>\n",
       "      <td>NL-MCI</td>\n",
       "      <td>True</td>\n",
       "      <td>NL</td>\n",
       "      <td>False</td>\n",
       "      <td>NL-NL</td>\n",
       "    </tr>\n",
       "    <tr>\n",
       "      <th>4</th>\n",
       "      <td>3</td>\n",
       "      <td>AD</td>\n",
       "      <td>ADNI1</td>\n",
       "      <td>22.0</td>\n",
       "      <td>107.0</td>\n",
       "      <td>sc</td>\n",
       "      <td>sc</td>\n",
       "      <td>2005-08-18</td>\n",
       "      <td>NaN</td>\n",
       "      <td>Participant Visit</td>\n",
       "      <td>...</td>\n",
       "      <td>AD</td>\n",
       "      <td>False</td>\n",
       "      <td>AD-AD</td>\n",
       "      <td>AD</td>\n",
       "      <td>AD</td>\n",
       "      <td>AD-AD</td>\n",
       "      <td>False</td>\n",
       "      <td>AD</td>\n",
       "      <td>False</td>\n",
       "      <td>AD-AD</td>\n",
       "    </tr>\n",
       "  </tbody>\n",
       "</table>\n",
       "<p>5 rows × 625 columns</p>\n",
       "</div>"
      ],
      "text/plain": [
       "   RID DIAG  Phase    ID  SITEID VISCODE VISCODE2    USERDATE USERDATE2   \n",
       "0    2   NL  ADNI1  18.0   107.0      sc       sc  2005-08-17       NaN  \\\n",
       "1    2   NL  ADNI1  18.0   107.0      sc       bl  2005-08-17       NaN   \n",
       "2    2   NL  ADNI1  18.0   107.0      sc      m06  2005-08-17       NaN   \n",
       "3    2   NL  ADNI1  18.0   107.0      sc      m36  2005-08-17       NaN   \n",
       "4    3   AD  ADNI1  22.0   107.0      sc       sc  2005-08-18       NaN   \n",
       "\n",
       "            PTSOURCE  ... PREV_DIAG  DIAG_CHANGED  DIAG_GROUP   \n",
       "0  Participant Visit  ...        NL         False       NL-NL  \\\n",
       "1  Participant Visit  ...        NL         False       NL-NL   \n",
       "2  Participant Visit  ...        NL         False       NL-NL   \n",
       "3  Participant Visit  ...        NL         False       NL-NL   \n",
       "4  Participant Visit  ...        AD         False       AD-AD   \n",
       "\n",
       "  PATIENT_FIRST_DIAG PATIENT_LAST_DIAG  PATIENT_DIAG_GROUP   \n",
       "0                 NL               MCI              NL-MCI  \\\n",
       "1                 NL               MCI              NL-MCI   \n",
       "2                 NL               MCI              NL-MCI   \n",
       "3                 NL               MCI              NL-MCI   \n",
       "4                 AD                AD               AD-AD   \n",
       "\n",
       "   PATIENT_DIAG_CHANGED NEXT_DIAG NEXT_DIAG_CHANGE  NEXT_DIAG_GROUP  \n",
       "0                  True        NL            False            NL-NL  \n",
       "1                  True        NL            False            NL-NL  \n",
       "2                  True        NL            False            NL-NL  \n",
       "3                  True        NL            False            NL-NL  \n",
       "4                 False        AD            False            AD-AD  \n",
       "\n",
       "[5 rows x 625 columns]"
      ]
     },
     "execution_count": 252,
     "metadata": {},
     "output_type": "execute_result"
    }
   ],
   "source": [
    "# Load data\n",
    "adni_data = pd.read_csv('data/mainfile.csv', low_memory=False)\n",
    "adni_data.head()"
   ]
  },
  {
   "cell_type": "code",
   "execution_count": 253,
   "metadata": {},
   "outputs": [],
   "source": [
    "# Add id\n",
    "adni_data['UID'] = adni_data['RID'].astype(str) + '_' + adni_data['VISCODE2'].astype(str)"
   ]
  },
  {
   "cell_type": "code",
   "execution_count": 254,
   "metadata": {},
   "outputs": [
    {
     "name": "stdout",
     "output_type": "stream",
     "text": [
      "Number of rows before dropping NA: 18200\n",
      "Number of rows after dropping NA: 8892\n"
     ]
    }
   ],
   "source": [
    "# Drop NA\n",
    "csf_cols = ['UID', 'RID', 'VISCODE2', 'ABETA', 'TAU', 'PTAU', 'DIAG']\n",
    "\n",
    "print('Number of rows before dropping NA: {}'.format(adni_data.shape[0]))\n",
    "adni_data = adni_data.dropna(subset=csf_cols)\n",
    "print('Number of rows after dropping NA: {}'.format(adni_data.shape[0]))"
   ]
  },
  {
   "cell_type": "code",
   "execution_count": 255,
   "metadata": {},
   "outputs": [
    {
     "name": "stdout",
     "output_type": "stream",
     "text": [
      "Number of rows before dropping duplicates: 8892\n",
      "Number of rows after dropping duplicates: 8377\n"
     ]
    }
   ],
   "source": [
    "# Drop duplicates\n",
    "print('Number of rows before dropping duplicates: {}'.format(adni_data.shape[0]))\n",
    "adni_data = adni_data.drop_duplicates(subset=['UID'])\n",
    "print('Number of rows after dropping duplicates: {}'.format(adni_data.shape[0]))"
   ]
  },
  {
   "cell_type": "code",
   "execution_count": 256,
   "metadata": {},
   "outputs": [],
   "source": [
    "# Save data\n",
    "adni_data.to_csv('data/ADNI.csv', index=False)"
   ]
  },
  {
   "attachments": {},
   "cell_type": "markdown",
   "metadata": {},
   "source": [
    "## Extract CSF data"
   ]
  },
  {
   "cell_type": "code",
   "execution_count": 257,
   "metadata": {},
   "outputs": [],
   "source": [
    "# CSF data\n",
    "csf_data = adni_data[csf_cols]\n",
    "\n",
    "# Define DIAG as category of order NL, MCI, AD\n",
    "csf_data.loc[:, 'DIAG'] = pd.Categorical(csf_data['DIAG'], ordered=True, categories=['NL', 'MCI', 'AD'])"
   ]
  },
  {
   "cell_type": "code",
   "execution_count": 258,
   "metadata": {},
   "outputs": [
    {
     "data": {
      "image/png": "[encoded data removed]",
      "text/plain": [
       "<Figure size 640x480 with 1 Axes>"
      ]
     },
     "metadata": {},
     "output_type": "display_data"
    }
   ],
   "source": [
    "# Plot Histogram of Diagnosis\n",
    "sns.countplot(x='DIAG', data=csf_data)\n",
    "plt.show()"
   ]
  },
  {
   "cell_type": "code",
   "execution_count": 259,
   "metadata": {},
   "outputs": [],
   "source": [
    "# Standardize data\n",
    "from sklearn.preprocessing import StandardScaler\n",
    "scaler = StandardScaler()\n",
    "csf_data.loc[:, ['ABETA', 'TAU', 'PTAU']] = scaler.fit_transform(csf_data[['ABETA', 'TAU', 'PTAU']])"
   ]
  },
  {
   "attachments": {},
   "cell_type": "markdown",
   "metadata": {},
   "source": [
    "## Logistic Regression Model"
   ]
  },
  {
   "cell_type": "code",
   "execution_count": 260,
   "metadata": {},
   "outputs": [
    {
     "name": "stdout",
     "output_type": "stream",
     "text": [
      "Accuracy: 0.48568019093078757\n",
      "Precision: 0.49392894632228607\n"
     ]
    }
   ],
   "source": [
    "# Train Logic Regression model\n",
    "from sklearn.linear_model import LogisticRegression\n",
    "from sklearn.model_selection import train_test_split\n",
    "from sklearn.metrics import precision_score, accuracy_score\n",
    "\n",
    "# Split data into train and test sets\n",
    "X = csf_data[['ABETA', 'TAU', 'PTAU']]\n",
    "y = csf_data['DIAG']\n",
    "\n",
    "X_train, X_test, y_train, y_test = train_test_split(X, y, test_size=0.2, random_state=42)\n",
    "\n",
    "# Train model using GridSearchCV\n",
    "model = LogisticRegression()\n",
    "model.fit(X_train, y_train)\n",
    "\n",
    "# Evaluate model\n",
    "y_pred = model.predict(X_test)\n",
    "print('Accuracy: {}'.format(accuracy_score(y_test, y_pred)))\n",
    "print('Precision: {}'.format(precision_score(y_test, y_pred, average='macro')))"
   ]
  },
  {
   "cell_type": "code",
   "execution_count": 261,
   "metadata": {},
   "outputs": [
    {
     "name": "stdout",
     "output_type": "stream",
     "text": [
      "Best params: {'C': 0.001, 'max_iter': 10000, 'penalty': 'l2'}\n",
      "Accuracy: 0.4880668257756563\n",
      "Precision: 0.5159765752177012\n"
     ]
    }
   ],
   "source": [
    "# Train LogisticRegression using GridSearchCV \n",
    "# param_grid={'penalty': ['l2', 'l1', 'elasticnet'], 'C': [0.001, 0.01, 0.1, 1, 10]}\n",
    "from sklearn.model_selection import GridSearchCV\n",
    "\n",
    "# Train model using GridSearchCV\n",
    "grid = GridSearchCV(LogisticRegression(), param_grid={'penalty': ['l2'], 'C': [0.001, 0.01, 0.1, 1, 10], 'max_iter': [10000]})\n",
    "res = grid.fit(X_train, y_train)\n",
    "\n",
    "print('Best params: {}'.format(res.best_params_))\n",
    "\n",
    "# Evaluate model\n",
    "model = res.best_estimator_\n",
    "y_pred = model.predict(X_test)\n",
    "print('Accuracy: {}'.format(accuracy_score(y_test, y_pred)))\n",
    "print('Precision: {}'.format(precision_score(y_test, y_pred, average='macro')))"
   ]
  },
  {
   "cell_type": "code",
   "execution_count": 262,
   "metadata": {},
   "outputs": [
    {
     "name": "stderr",
     "output_type": "stream",
     "text": [
      "/var/folders/8s/7zgyk05565q9l208ztk8spw80000gn/T/ipykernel_6580/1831306272.py:2: SettingWithCopyWarning: \n",
      "A value is trying to be set on a copy of a slice from a DataFrame.\n",
      "Try using .loc[row_indexer,col_indexer] = value instead\n",
      "\n",
      "See the caveats in the documentation: https://pandas.pydata.org/pandas-docs/stable/user_guide/indexing.html#returning-a-view-versus-a-copy\n",
      "  csf_data.loc[:, 'DIAG_PRED_LR'] = model.predict(csf_data[['ABETA', 'TAU', 'PTAU']]).copy()\n"
     ]
    }
   ],
   "source": [
    "# Save prediction of best model as a new column in csf_data\n",
    "csf_data.loc[:, 'DIAG_PRED_LR'] = model.predict(csf_data[['ABETA', 'TAU', 'PTAU']]).copy()\n",
    "csf_data.loc[:, 'DIAG_PRED_LR'] = pd.Categorical(csf_data['DIAG_PRED_LR'], ordered=True, categories=['NL', 'MCI', 'AD'])"
   ]
  },
  {
   "attachments": {},
   "cell_type": "markdown",
   "metadata": {},
   "source": [
    "## Decision Tree Model"
   ]
  },
  {
   "cell_type": "code",
   "execution_count": 263,
   "metadata": {},
   "outputs": [
    {
     "name": "stdout",
     "output_type": "stream",
     "text": [
      "Best params: {'criterion': 'gini', 'max_depth': 18}\n",
      "Accuracy: 0.9630071599045346\n",
      "Precision: 0.9595250996433874\n"
     ]
    }
   ],
   "source": [
    "from sklearn.model_selection import GridSearchCV\n",
    "from sklearn.tree import DecisionTreeClassifier\n",
    "\n",
    "# Train model using GridSearchCV\n",
    "grid = GridSearchCV(DecisionTreeClassifier(), param_grid={'criterion': ['gini', 'entropy', 'log_loss'], 'max_depth': [2, 5, 18]})\n",
    "res = grid.fit(X_train, y_train)\n",
    "\n",
    "print('Best params: {}'.format(res.best_params_))\n",
    "\n",
    "# Evaluate model\n",
    "model = res.best_estimator_\n",
    "y_pred = model.predict(X_test)\n",
    "print('Accuracy: {}'.format(accuracy_score(y_test, y_pred)))\n",
    "print('Precision: {}'.format(precision_score(y_test, y_pred, average='macro')))"
   ]
  },
  {
   "cell_type": "code",
   "execution_count": 264,
   "metadata": {},
   "outputs": [
    {
     "name": "stderr",
     "output_type": "stream",
     "text": [
      "/var/folders/8s/7zgyk05565q9l208ztk8spw80000gn/T/ipykernel_6580/1232592718.py:2: SettingWithCopyWarning: \n",
      "A value is trying to be set on a copy of a slice from a DataFrame.\n",
      "Try using .loc[row_indexer,col_indexer] = value instead\n",
      "\n",
      "See the caveats in the documentation: https://pandas.pydata.org/pandas-docs/stable/user_guide/indexing.html#returning-a-view-versus-a-copy\n",
      "  csf_data.loc[:, 'DIAG_PRED_DT'] = model.predict(csf_data[['ABETA', 'TAU', 'PTAU']]).copy()\n"
     ]
    }
   ],
   "source": [
    "# Save prediction of best model as a new column in csf_data\n",
    "csf_data.loc[:, 'DIAG_PRED_DT'] = model.predict(csf_data[['ABETA', 'TAU', 'PTAU']]).copy()\n",
    "csf_data.loc[:, 'DIAG_PRED_DT'] = pd.Categorical(csf_data['DIAG_PRED_DT'], ordered=True, categories=['NL', 'MCI', 'AD'])"
   ]
  },
  {
   "attachments": {},
   "cell_type": "markdown",
   "metadata": {},
   "source": [
    "## Save to CSV"
   ]
  },
  {
   "cell_type": "code",
   "execution_count": 268,
   "metadata": {},
   "outputs": [],
   "source": [
    "# Save csf_data to CSV\n",
    "csf_data.to_csv('data/ADNI_PRED.csv', index=False)"
   ]
  },
  {
   "cell_type": "code",
   "execution_count": 269,
   "metadata": {},
   "outputs": [
    {
     "data": {
      "image/png": "[encoded data removed]",
      "text/plain": [
       "<Figure size 640x480 with 1 Axes>"
      ]
     },
     "metadata": {},
     "output_type": "display_data"
    }
   ],
   "source": [
    "# Plot Histogram of Diagnosis\n",
    "sns.countplot(x='DIAG_PRED_LR', data=csf_data)\n",
    "plt.show()"
   ]
  },
  {
   "cell_type": "code",
   "execution_count": 270,
   "metadata": {},
   "outputs": [
    {
     "data": {
      "image/png": "[encoded data removed]",
      "text/plain": [
       "<Figure size 640x480 with 1 Axes>"
      ]
     },
     "metadata": {},
     "output_type": "display_data"
    }
   ],
   "source": [
    "# Plot Histogram of Diagnosis\n",
    "sns.countplot(x='DIAG_PRED_DT', data=csf_data)\n",
    "plt.show()"
   ]
  }
 ],
 "metadata": {
  "kernelspec": {
   "display_name": "van",
   "language": "python",
   "name": "python3"
  },
  "language_info": {
   "codemirror_mode": {
    "name": "ipython",
    "version": 3
   },
   "file_extension": ".py",
   "mimetype": "text/x-python",
   "name": "python",
   "nbconvert_exporter": "python",
   "pygments_lexer": "ipython3",
   "version": "3.10.11"
  },
  "orig_nbformat": 4
 },
 "nbformat": 4,
 "nbformat_minor": 2
}
