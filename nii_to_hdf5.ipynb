{
 "cells": [
  {
   "cell_type": "code",
   "execution_count": 3,
   "metadata": {},
   "outputs": [],
   "source": [
    "import os\n",
    "import h5py\n",
    "import nibabel as nib\n",
    "\n",
    "def convert_nii_to_hdf5(nii_file):\n",
    "    # Get the folder and base filename\n",
    "    folder, filename = os.path.split(nii_file)\n",
    "    base_name = os.path.splitext(filename)[0]\n",
    "\n",
    "    # Load the NIfTI file\n",
    "    nii_data = nib.load(nii_file).get_fdata()\n",
    "\n",
    "    # Create the HDF5 file path\n",
    "    hdf5_file = os.path.join(folder, base_name + '.h5')\n",
    "\n",
    "    # Create the HDF5 file and dataset\n",
    "    with h5py.File(hdf5_file, 'w') as hf:\n",
    "        hf.create_dataset('data', data=nii_data)\n",
    "\n",
    "    print(f\"Converted {nii_file} to {hdf5_file}\")"
   ]
  },
  {
   "cell_type": "code",
   "execution_count": 4,
   "metadata": {},
   "outputs": [
    {
     "name": "stdout",
     "output_type": "stream",
     "text": [
      "Converted data/362_bl.nii to data/362_bl.h5\n"
     ]
    }
   ],
   "source": [
    "# Example usage\n",
    "nii_file_path = 'data/362_bl.nii'\n",
    "convert_nii_to_hdf5(nii_file_path)"
   ]
  },
  {
   "cell_type": "code",
   "execution_count": 10,
   "metadata": {},
   "outputs": [],
   "source": [
    "nii_data = nib.load('data/362_bl.nii')"
   ]
  },
  {
   "cell_type": "code",
   "execution_count": 13,
   "metadata": {},
   "outputs": [
    {
     "name": "stdout",
     "output_type": "stream",
     "text": [
      "<class 'nibabel.nifti1.Nifti1Header'> object, endian='>'\n",
      "sizeof_hdr      : 348\n",
      "data_type       : b''\n",
      "db_name         : b'011_S_0362'\n",
      "extents         : 16384\n",
      "session_error   : -1\n",
      "regular         : b'r'\n",
      "dim_info        : 0\n",
      "dim             : [  4 160 192 192   1   0   0   0]\n",
      "intent_p1       : 0.0\n",
      "intent_p2       : 0.0\n",
      "intent_p3       : 0.0\n",
      "intent_code     : none\n",
      "datatype        : uint16\n",
      "bitpix          : 16\n",
      "slice_start     : 0\n",
      "pixdim          : [1.   1.2  1.25 1.25 0.   0.   0.   0.  ]\n",
      "vox_offset      : 0.0\n",
      "scl_slope       : nan\n",
      "scl_inter       : nan\n",
      "slice_end       : 0\n",
      "slice_code      : unknown\n",
      "xyzt_units      : 2\n",
      "cal_max         : 0.0\n",
      "cal_min         : 0.0\n",
      "slice_duration  : 0.0\n",
      "toffset         : 0.0\n",
      "glmax           : 0\n",
      "glmin           : 0\n",
      "descrip         : b''\n",
      "aux_file        : b''\n",
      "qform_code      : scanner\n",
      "sform_code      : unknown\n",
      "quatern_b       : 0.0\n",
      "quatern_c       : 0.0\n",
      "quatern_d       : 0.0\n",
      "qoffset_x       : 124.77191\n",
      "qoffset_y       : 106.62985\n",
      "qoffset_z       : 356.7875\n",
      "srow_x          : [0. 0. 0. 0.]\n",
      "srow_y          : [0. 0. 0. 0.]\n",
      "srow_z          : [0. 0. 0. 0.]\n",
      "intent_name     : b''\n",
      "magic           : b'n+1'\n"
     ]
    }
   ],
   "source": [
    "metadata = nii_data.header #\n",
    "print(metadata)\n"
   ]
  },
  {
   "cell_type": "code",
   "execution_count": null,
   "metadata": {},
   "outputs": [],
   "source": []
  }
 ],
 "metadata": {
  "kernelspec": {
   "display_name": "van",
   "language": "python",
   "name": "python3"
  },
  "language_info": {
   "codemirror_mode": {
    "name": "ipython",
    "version": 3
   },
   "file_extension": ".py",
   "mimetype": "text/x-python",
   "name": "python",
   "nbconvert_exporter": "python",
   "pygments_lexer": "ipython3",
   "version": "3.10.11"
  },
  "orig_nbformat": 4
 },
 "nbformat": 4,
 "nbformat_minor": 2
}
